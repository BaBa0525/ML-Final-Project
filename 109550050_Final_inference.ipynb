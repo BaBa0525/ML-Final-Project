{
 "cells": [
  {
   "cell_type": "code",
   "execution_count": 12,
   "metadata": {},
   "outputs": [],
   "source": [
    "from pathlib import Path\n",
    "\n",
    "import pandas as pd\n",
    "from joblib import dump, load\n",
    "from sklearn.ensemble import AdaBoostClassifier\n",
    "import numpy as np\n",
    "from sklearn.model_selection import StratifiedKFold\n",
    "from sklearn.preprocessing import StandardScaler\n",
    "from sklearn.impute import KNNImputer\n",
    "from sklearn.linear_model import HuberRegressor"
   ]
  },
  {
   "cell_type": "code",
   "execution_count": 13,
   "metadata": {},
   "outputs": [],
   "source": [
    "basedir = Path(\"./dataset\")\n",
    "train = pd.read_csv(basedir / \"train.csv\")\n",
    "test = pd.read_csv(basedir / \"test.csv\")\n",
    "submission = pd.read_csv(basedir / \"sample_submission.csv\")\n"
   ]
  },
  {
   "cell_type": "code",
   "execution_count": 14,
   "metadata": {},
   "outputs": [],
   "source": [
    "# Used to predict the missing value of measurement_17\n",
    "fill_dict = {\n",
    "    \"A\": [\"measurement_5\", \"measurement_6\", \"measurement_8\"],\n",
    "    \"B\": [\"measurement_4\", \"measurement_5\", \"measurement_7\"],\n",
    "    \"C\": [\"measurement_5\", \"measurement_7\", \"measurement_8\", \"measurement_9\"],\n",
    "    \"D\": [\"measurement_5\", \"measurement_6\", \"measurement_7\", \"measurement_8\"],\n",
    "    \"E\": [\"measurement_4\", \"measurement_5\", \"measurement_6\", \"measurement_8\"],\n",
    "    \"F\": [\"measurement_4\", \"measurement_5\", \"measurement_6\", \"measurement_7\"],\n",
    "    \"G\": [\"measurement_4\", \"measurement_6\", \"measurement_8\", \"measurement_9\"],\n",
    "    \"H\": [\n",
    "        \"measurement_4\",\n",
    "        \"measurement_5\",\n",
    "        \"measurement_7\",\n",
    "        \"measurement_8\",\n",
    "        \"measurement_9\",\n",
    "    ],\n",
    "    \"I\": [\"measurement_3\", \"measurement_7\", \"measurement_8\"],\n",
    "}\n",
    "\n",
    "feature = [f for f in test.columns if f.startswith(\"measurement\") or f == \"loading\"]"
   ]
  },
  {
   "cell_type": "code",
   "execution_count": 15,
   "metadata": {},
   "outputs": [],
   "source": [
    "def without_any_null(data: pd.DataFrame):\n",
    "    return data.isna().sum(axis=1) == 0\n",
    "\n",
    "def only_target_null(data: pd.Series, feats: list[str], target: str):\n",
    "    return without_any_null(data[feats]) & data[target].isna()"
   ]
  },
  {
   "cell_type": "code",
   "execution_count": 16,
   "metadata": {},
   "outputs": [],
   "source": [
    "def fill_column(data: pd.DataFrame, column_name: str) -> pd.DataFrame:\n",
    "    for code in data.product_code.unique():\n",
    "        code_data = data[data.product_code == code]\n",
    "        correlation_col = fill_dict[code]\n",
    "\n",
    "        # rows with no empty column\n",
    "        train_fill = code_data[correlation_col + [column_name]].dropna(how=\"any\")\n",
    "        fill_rows_code = only_target_null(code_data, correlation_col, column_name)\n",
    "        fill_data = code_data[fill_rows_code]\n",
    "\n",
    "        model_fill = HuberRegressor()\n",
    "        model_fill.fit(train_fill[correlation_col], train_fill[column_name])\n",
    "\n",
    "        # index in data (global)\n",
    "        fill_rows_data = (data.product_code == code) & only_target_null(\n",
    "            data, correlation_col, column_name\n",
    "        )\n",
    "        data.loc[fill_rows_data, column_name] = model_fill.predict(\n",
    "            fill_data[correlation_col]\n",
    "        )\n",
    "\n",
    "        return data"
   ]
  },
  {
   "cell_type": "code",
   "execution_count": 17,
   "metadata": {},
   "outputs": [],
   "source": [
    "def impute_data(data: pd.DataFrame):\n",
    "    for code in data.product_code.unique():\n",
    "        model_impute = KNNImputer(n_neighbors=5)\n",
    "        # print(f\"KNN imputing code {code}\")\n",
    "        data.loc[(data.product_code == code), feature] = model_impute.fit_transform(\n",
    "            data.loc[(data.product_code == code), feature]\n",
    "        )\n",
    "    return data"
   ]
  },
  {
   "cell_type": "code",
   "execution_count": 18,
   "metadata": {},
   "outputs": [],
   "source": [
    "def preprocess_data():\n",
    "    data = pd.concat([train, test])\n",
    "    data[\"m3_missing\"] = data[\"measurement_3\"].isnull().astype(np.int8)\n",
    "    data[\"m5_missing\"] = data[\"measurement_5\"].isnull().astype(np.int8)\n",
    "    data[\"measurement_2\"] = data[\"measurement_2\"].clip(15)\n",
    "    data[\"area\"] = data[\"attribute_2\"].values * data[\"attribute_3\"].values\n",
    "    data[\"loading\"] = np.log1p(data[\"loading\"])\n",
    "    data = fill_column(data, \"measurement_17\")\n",
    "    data = impute_data(data)\n",
    "    return data"
   ]
  },
  {
   "cell_type": "code",
   "execution_count": 19,
   "metadata": {},
   "outputs": [],
   "source": [
    "def scale(\n",
    "    train_data: pd.DataFrame,\n",
    "    val_data: pd.DataFrame,\n",
    "    test_data: pd.DataFrame,\n",
    "    feats: list,\n",
    "):\n",
    "    scaler = StandardScaler()\n",
    "\n",
    "    scaled_train = scaler.fit_transform(train_data[feats])\n",
    "    scaled_val = scaler.transform(val_data[feats])\n",
    "    scaled_test = scaler.transform(test_data[feats])\n",
    "\n",
    "    new_train = train_data.copy()\n",
    "    new_val = val_data.copy()\n",
    "    new_test = test_data.copy()\n",
    "\n",
    "    new_train[feats] = scaled_train\n",
    "    new_val[feats] = scaled_val\n",
    "    new_test[feats] = scaled_test\n",
    "\n",
    "    return new_train, new_val, new_test"
   ]
  },
  {
   "cell_type": "code",
   "execution_count": 20,
   "metadata": {},
   "outputs": [],
   "source": [
    "data = preprocess_data()\n",
    "copy_train = data[data.failure.notnull()]\n",
    "copy_test = data[data.failure.isnull()]"
   ]
  },
  {
   "cell_type": "code",
   "execution_count": 21,
   "metadata": {},
   "outputs": [],
   "source": [
    "feats = [\"loading\", \"measurement_17\", \"m3_missing\", \"m5_missing\"]"
   ]
  },
  {
   "cell_type": "code",
   "execution_count": null,
   "metadata": {},
   "outputs": [],
   "source": [
    "save_path = Path(\"./model\")\n",
    "model_files = list(save_path.glob(\"*joblib\"))\n",
    "\n",
    "lr_test = np.zeros(len(copy_test))\n",
    "kf = StratifiedKFold(n_splits=5, shuffle=True, random_state=42)\n",
    "X = copy_train.drop([\"failure\"], axis=1)\n",
    "y = copy_train[\"failure\"].astype(int)\n",
    "test = copy_test.drop([\"failure\"], axis=1)\n",
    "for fold_idx, (train_idx, val_idx) in enumerate(kf.split(X, y)):\n",
    "    print(f\"Fold: {fold_idx}\")\n",
    "    x_train, x_val = X.iloc[train_idx], X.iloc[val_idx]\n",
    "    y_train, y_val = y.iloc[train_idx], y.iloc[val_idx]\n",
    "    x_test = test.copy()\n",
    "\n",
    "    x_train, x_val, x_test = scale(x_train, x_val, x_test, feats)\n",
    "\n",
    "    model: AdaBoostClassifier = load(model_files[fold_idx])\n",
    "    lr_test += model.predict_proba(x_test[feats])[:, 1] / 5"
   ]
  },
  {
   "cell_type": "code",
   "execution_count": 23,
   "metadata": {},
   "outputs": [],
   "source": [
    "submission['failure'] = lr_test\n",
    "submission[['id', 'failure']].to_csv('109550050.csv', index=False)"
   ]
  }
 ],
 "metadata": {
  "kernelspec": {
   "display_name": ".venv",
   "language": "python",
   "name": "python3"
  },
  "language_info": {
   "codemirror_mode": {
    "name": "ipython",
    "version": 3
   },
   "file_extension": ".py",
   "mimetype": "text/x-python",
   "name": "python",
   "nbconvert_exporter": "python",
   "pygments_lexer": "ipython3",
   "version": "3.10.8"
  },
  "orig_nbformat": 4,
  "vscode": {
   "interpreter": {
    "hash": "972575cad4fff9ef0079c8dec931e4afc42558b08553a4de74f14b0fb80a0580"
   }
  }
 },
 "nbformat": 4,
 "nbformat_minor": 2
}
